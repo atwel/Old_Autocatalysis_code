{
 "metadata": {
  "name": ""
 },
 "nbformat": 3,
 "nbformat_minor": 0,
 "worksheets": [
  {
   "cells": [
    {
     "cell_type": "code",
     "collapsed": false,
     "input": [
      "import AC_Cells\n",
      "import AC_CellNet\n",
      "import AC_ProductRuleNet\n",
      "import AC_ProductRules\n",
      "import AC_Products\n",
      "import random\n",
      "import sys"
     ],
     "language": "python",
     "metadata": {},
     "outputs": [],
     "prompt_number": 2
    },
    {
     "cell_type": "code",
     "collapsed": false,
     "input": [
      "import r_rng as RNG"
     ],
     "language": "python",
     "metadata": {},
     "outputs": [],
     "prompt_number": 3
    },
    {
     "cell_type": "code",
     "collapsed": false,
     "input": [
      "reload(AC_Cells)\n",
      "reload(AC_CellNet)\n",
      "reload(AC_ProductRuleNet)\n",
      "reload(AC_ProductRules)\n",
      "reload(AC_Products)\n",
      "#reload(r_rng)"
     ],
     "language": "python",
     "metadata": {},
     "outputs": [
      {
       "metadata": {},
       "output_type": "pyout",
       "prompt_number": 210,
       "text": [
        "<module 'AC_Products' from 'AC_Products.pyc'>"
       ]
      }
     ],
     "prompt_number": 210
    },
    {
     "cell_type": "code",
     "collapsed": false,
     "input": [
      "PRODUCT_TYPES = 8                                  # [2, 3, 4, 5, 6, 7, 8, 9]\n",
      "CHEMISTRY = \"ALL\"                                  # [\"ALL\",\"SOLOH\"]\n",
      "INTEL_TYPE = False                                 # True => \"selective\", False => \"random\"\n",
      "URN_TYPE = \"endo-poor\"                             # [\"fixed-rich\", \"fixed-poor\", \"endo-rich\", \"endo-poor\"]\n",
      "REPRO_TYPE = \"source\"                              # [\"target\", \"source\"]\n",
      "TOPOLOGY = \"spatial\"                               # [\"spatial\", \"well-mixed\"]\n",
      "\n",
      "# some background variables\n",
      "CELL_COUNT = 100\n",
      "\n",
      "PRODUCT_COUNT = 200\n",
      "RULE_COUNT = 200"
     ],
     "language": "python",
     "metadata": {},
     "outputs": [],
     "prompt_number": 211
    },
    {
     "cell_type": "code",
     "collapsed": false,
     "input": [
      "#seed = random.randint(0,sys.maxint)\n",
      "#RNG1 = random.Random(seed)\n",
      "#RNG2 = random.Random(seed*2)\n",
      "RNG.seed(0)\n",
      "\n",
      "myurn = AC_Products.Urn(URN_TYPE, PRODUCT_TYPES, RNG, PRODUCT_COUNT)\n",
      "\n",
      "# Creating all of the rules \n",
      "myrules = AC_ProductRules.create_RuleSet(CHEMISTRY, PRODUCT_TYPES, RULE_COUNT, RNG)\n",
      "\n",
      "\n",
      "#Creating a network object for compatible rules\n",
      "myRuleNet = AC_ProductRuleNet.ProductRuleNet()\n",
      "\n",
      "# creating the actual cells\n",
      "cells = [AC_Cells.Cell(myurn,myRuleNet, RNG, i+1, INTEL_TYPE, REPRO_TYPE, TOPOLOGY) for i in range(CELL_COUNT)]\n",
      "\n",
      "\n",
      "#passing out the myrules to cells at random\n",
      "for i in range(len(myrules)):\n",
      "    cell = RNG.choice(cells)\n",
      "    r = myrules.pop(0)\n",
      "    cell.add_ProductRule(r)\n",
      "    #print cell.id+1, \" got \", r.get_name()\n",
      "\n",
      "\n",
      "\n",
      "# Creating a network of neighbors on 10X10 torus grid\n",
      "mynet = AC_CellNet.CellNet(cells, RNG)\n",
      "\n",
      "#Filling in the actual compatible rule network. \n",
      "for cell in cells:\n",
      "    for ngh in cell.neighbors:\n",
      "        for r1 in cell.product_netrules.values():\n",
      "            for r2 in ngh.product_netrules.values():\n",
      "                myRuleNet.add_edge(r1,r2) # actual check of compatibility is in this funct.\n",
      "                \n",
      "for i in cells:\n",
      "    if i.count_rules == 0:\n",
      "        i.isAlive = False\n",
      "    i.clean_neighbors()\n",
      "    #print [k.id for k in i.neighbors]\n",
      "cnt=0"
     ],
     "language": "python",
     "metadata": {},
     "outputs": [
      {
       "output_type": "stream",
       "stream": "stdout",
       "text": [
        "making ALL chem\n"
       ]
      }
     ],
     "prompt_number": 212
    },
    {
     "cell_type": "code",
     "collapsed": false,
     "input": [
      "for i in range(1000):\n",
      "    mynet.get_random_rule()\n",
      "    cnt+=1"
     ],
     "language": "python",
     "metadata": {},
     "outputs": [],
     "prompt_number": 215
    },
    {
     "cell_type": "code",
     "collapsed": false,
     "input": [
      "vals = []\n",
      "for i in myurn.collection.values():\n",
      "    vals.append(len(i))\n",
      "print vals"
     ],
     "language": "python",
     "metadata": {},
     "outputs": [
      {
       "output_type": "stream",
       "stream": "stdout",
       "text": [
        "[61, 23, 12, 25, 27, 18, 18, 16]\n"
       ]
      }
     ],
     "prompt_number": 216
    },
    {
     "cell_type": "code",
     "collapsed": false,
     "input": [
      "cnt"
     ],
     "language": "python",
     "metadata": {},
     "outputs": [
      {
       "metadata": {},
       "output_type": "pyout",
       "prompt_number": 204,
       "text": [
        "106"
       ]
      }
     ],
     "prompt_number": 204
    },
    {
     "cell_type": "code",
     "collapsed": false,
     "input": [
      "RNG.randint(1,101)"
     ],
     "language": "python",
     "metadata": {},
     "outputs": [
      {
       "metadata": {},
       "output_type": "pyout",
       "prompt_number": 138,
       "text": [
        "91"
       ]
      }
     ],
     "prompt_number": 138
    },
    {
     "cell_type": "code",
     "collapsed": false,
     "input": [
      "for i in range(1):\n",
      "    mynet.get_random_rule()"
     ],
     "language": "python",
     "metadata": {},
     "outputs": [
      {
       "output_type": "stream",
       "stream": "stdout",
       "text": [
        "[7, 19]\n",
        "[1, 1]\n",
        "4 -> 6\n"
       ]
      }
     ],
     "prompt_number": 34
    },
    {
     "cell_type": "code",
     "collapsed": false,
     "input": [
      "tot = 0\n",
      "for i in myurn.collection.values():\n",
      "    tot += len(i)\n",
      "print tot"
     ],
     "language": "python",
     "metadata": {},
     "outputs": [
      {
       "output_type": "stream",
       "stream": "stdout",
       "text": [
        "200\n"
       ]
      }
     ],
     "prompt_number": 156
    },
    {
     "cell_type": "code",
     "collapsed": false,
     "input": [
      "[i.id for i in cells[9].neighbors] #collection"
     ],
     "language": "python",
     "metadata": {},
     "outputs": []
    },
    {
     "cell_type": "code",
     "collapsed": false,
     "input": [
      "tot = 0\n",
      "for c in cells:\n",
      "    for p in c.product_netrules.values():\n",
      "        \n",
      "        #print c.id,p, p.get_count()\n",
      "        tot += p.get_count()\n",
      "print tot"
     ],
     "language": "python",
     "metadata": {},
     "outputs": []
    },
    {
     "cell_type": "code",
     "collapsed": false,
     "input": [
      "cells[1].id"
     ],
     "language": "python",
     "metadata": {},
     "outputs": []
    },
    {
     "cell_type": "code",
     "collapsed": false,
     "input": [
      "import networkx"
     ],
     "language": "python",
     "metadata": {},
     "outputs": []
    },
    {
     "cell_type": "code",
     "collapsed": false,
     "input": [
      "%pylab --no-import-all inline"
     ],
     "language": "python",
     "metadata": {},
     "outputs": []
    },
    {
     "cell_type": "code",
     "collapsed": false,
     "input": [
      "networkx.recursive_simple_cycles(myRuleNet.net)"
     ],
     "language": "python",
     "metadata": {},
     "outputs": []
    },
    {
     "cell_type": "code",
     "collapsed": false,
     "input": [
      "networkx.draw(myRuleNet.net)"
     ],
     "language": "python",
     "metadata": {},
     "outputs": []
    },
    {
     "cell_type": "code",
     "collapsed": false,
     "input": [
      "import random\n",
      "range(5)"
     ],
     "language": "python",
     "metadata": {},
     "outputs": []
    },
    {
     "cell_type": "code",
     "collapsed": false,
     "input": [
      "range(1,6)"
     ],
     "language": "python",
     "metadata": {},
     "outputs": []
    },
    {
     "cell_type": "code",
     "collapsed": false,
     "input": [
      "cells[6].product_rules"
     ],
     "language": "python",
     "metadata": {},
     "outputs": []
    },
    {
     "cell_type": "code",
     "collapsed": false,
     "input": [
      "x"
     ],
     "language": "python",
     "metadata": {},
     "outputs": []
    },
    {
     "cell_type": "code",
     "collapsed": false,
     "input": [],
     "language": "python",
     "metadata": {},
     "outputs": []
    }
   ],
   "metadata": {}
  }
 ]
}